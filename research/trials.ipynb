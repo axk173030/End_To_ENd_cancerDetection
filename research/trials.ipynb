{
 "cells": [
  {
   "cell_type": "code",
   "execution_count": null,
   "id": "3927ed5f",
   "metadata": {},
   "outputs": [],
   "source": []
  },
  {
   "cell_type": "code",
   "execution_count": 4,
   "id": "13cb6549",
   "metadata": {},
   "outputs": [],
   "source": [
    "import os"
   ]
  },
  {
   "cell_type": "code",
   "execution_count": null,
   "id": "b14ba2a0",
   "metadata": {},
   "outputs": [],
   "source": [
    "%pip install python-box\n",
    "\n",
    "d={\"k1\":\"v1\",\"k2\":\"v2\",\"k3\":\"v3\"}\n",
    "from box import ConfigBox"
   ]
  },
  {
   "cell_type": "code",
   "execution_count": 5,
   "id": "04d72ec5",
   "metadata": {},
   "outputs": [
    {
     "data": {
      "text/plain": [
       "ConfigBox({'k1': 'v1', 'k2': 'v2', 'k3': 'v3'})"
      ]
     },
     "execution_count": 5,
     "metadata": {},
     "output_type": "execute_result"
    }
   ],
   "source": [
    "ConfigBox(d)"
   ]
  },
  {
   "cell_type": "code",
   "execution_count": 7,
   "id": "3f5dcd40",
   "metadata": {},
   "outputs": [
    {
     "data": {
      "text/plain": [
       "dict_keys(['k1', 'k2', 'k3'])"
      ]
     },
     "execution_count": 7,
     "metadata": {},
     "output_type": "execute_result"
    }
   ],
   "source": [
    "d.keys()"
   ]
  },
  {
   "cell_type": "code",
   "execution_count": 8,
   "id": "21e0e974",
   "metadata": {},
   "outputs": [
    {
     "ename": "AttributeError",
     "evalue": "'dict' object has no attribute 'k1'",
     "output_type": "error",
     "traceback": [
      "\u001b[31m---------------------------------------------------------------------------\u001b[39m",
      "\u001b[31mAttributeError\u001b[39m                            Traceback (most recent call last)",
      "\u001b[36mCell\u001b[39m\u001b[36m \u001b[39m\u001b[32mIn[8]\u001b[39m\u001b[32m, line 1\u001b[39m\n\u001b[32m----> \u001b[39m\u001b[32m1\u001b[39m \u001b[43md\u001b[49m\u001b[43m.\u001b[49m\u001b[43mk1\u001b[49m\n",
      "\u001b[31mAttributeError\u001b[39m: 'dict' object has no attribute 'k1'"
     ]
    }
   ],
   "source": [
    "d.k1"
   ]
  },
  {
   "cell_type": "code",
   "execution_count": 9,
   "id": "61118a0c",
   "metadata": {},
   "outputs": [],
   "source": [
    "d1=ConfigBox(d)"
   ]
  },
  {
   "cell_type": "code",
   "execution_count": 10,
   "id": "b005f532",
   "metadata": {},
   "outputs": [
    {
     "data": {
      "text/plain": [
       "'v2'"
      ]
     },
     "execution_count": 10,
     "metadata": {},
     "output_type": "execute_result"
    }
   ],
   "source": [
    "d1.k2"
   ]
  },
  {
   "cell_type": "code",
   "execution_count": null,
   "id": "ad18764f",
   "metadata": {},
   "outputs": [
    {
     "ename": "ModuleNotFoundError",
     "evalue": "No module named 'ensure'",
     "output_type": "error",
     "traceback": [
      "\u001b[31m---------------------------------------------------------------------------\u001b[39m",
      "\u001b[31mModuleNotFoundError\u001b[39m                       Traceback (most recent call last)",
      "\u001b[36mCell\u001b[39m\u001b[36m \u001b[39m\u001b[32mIn[11]\u001b[39m\u001b[32m, line 1\u001b[39m\n\u001b[32m----> \u001b[39m\u001b[32m1\u001b[39m \u001b[38;5;28;01mfrom\u001b[39;00m\u001b[38;5;250m \u001b[39m\u001b[34;01mensure\u001b[39;00m\u001b[38;5;250m \u001b[39m\u001b[38;5;28;01mimport\u001b[39;00m ensure_annotations\n",
      "\u001b[31mModuleNotFoundError\u001b[39m: No module named 'ensure'"
     ]
    }
   ],
   "source": [
    "%pip install ensure\n",
    "\n",
    "from ensure import ensure_annotations"
   ]
  }
 ],
 "metadata": {
  "kernelspec": {
   "display_name": "cnnClassifier",
   "language": "python",
   "name": "python3"
  },
  "language_info": {
   "codemirror_mode": {
    "name": "ipython",
    "version": 3
   },
   "file_extension": ".py",
   "mimetype": "text/x-python",
   "name": "python",
   "nbconvert_exporter": "python",
   "pygments_lexer": "ipython3",
   "version": "3.12.7"
  }
 },
 "nbformat": 4,
 "nbformat_minor": 5
}
